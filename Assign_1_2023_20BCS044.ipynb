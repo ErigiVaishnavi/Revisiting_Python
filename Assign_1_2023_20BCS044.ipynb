{
  "nbformat": 4,
  "nbformat_minor": 0,
  "metadata": {
    "colab": {
      "provenance": [],
      "collapsed_sections": [
        "uuOxOkSiMMuy",
        "UkGo3J1YMsrs"
      ],
      "authorship_tag": "ABX9TyPSvwImWSKt/AWUOQp3ZPi1",
      "include_colab_link": true
    },
    "kernelspec": {
      "name": "python3",
      "display_name": "Python 3"
    },
    "language_info": {
      "name": "python"
    }
  },
  "cells": [
    {
      "cell_type": "markdown",
      "metadata": {
        "id": "view-in-github",
        "colab_type": "text"
      },
      "source": [
        "<a href=\"https://colab.research.google.com/github/ErigiVaishnavi/Revisiting_Python/blob/main/Assign_1_2023_20BCS044.ipynb\" target=\"_parent\"><img src=\"https://colab.research.google.com/assets/colab-badge.svg\" alt=\"Open In Colab\"/></a>"
      ]
    },
    {
      "cell_type": "markdown",
      "source": [
        "# Question-1\n",
        "### **Implement different string methods and demonstrate implementation in Google Colab Notebook using Python.**\n",
        "**bold text**"
      ],
      "metadata": {
        "id": "uuOxOkSiMMuy"
      }
    },
    {
      "cell_type": "markdown",
      "source": [
        "**Strings:** In python strings are Surrounded by Single or Double Quotations marks('', \"\") and immutable."
      ],
      "metadata": {
        "id": "EdgAl2wn7IaH"
      }
    },
    {
      "cell_type": "code",
      "execution_count": 35,
      "metadata": {
        "id": "NLJ2IPiG5wRS",
        "colab": {
          "base_uri": "https://localhost:8080/"
        },
        "outputId": "2b42d130-621d-4590-99a7-1522fc2c258b"
      },
      "outputs": [
        {
          "output_type": "stream",
          "name": "stdout",
          "text": [
            "Strings are Immutable\n",
            "Strings are non-changeable\n",
            "\n",
            "Strings are sorrounded by single,\n",
            "or double quotation marks,\n",
            "example ('',\"\").\n",
            "\n",
            "\n",
            "String Cancatination: \n",
            "Strings are sorrounded by single,\n",
            "or double quotation marks,\n",
            "example ('',\"\"). Strings are non-changeable\n"
          ]
        }
      ],
      "source": [
        "print(\"Strings are Immutable\")\n",
        "str1=\"Strings are non-changeable\"\n",
        "print(str1)\n",
        "#for multiline string \n",
        "str2=\"\"\"\\nStrings are sorrounded by single,\n",
        "or double quotation marks,\n",
        "example ('',\"\").\"\"\"\n",
        "print(str2)\n",
        "print(\"\\n\")\n",
        "#String Cancatination or a combination\n",
        "print(\"String Cancatination:\", str2+\" \" +str1)"
      ]
    },
    {
      "cell_type": "code",
      "source": [
        "#Slicing string\n",
        "print(str1[0:7])\n",
        "print(str1[8:11])\n",
        "print(str1[12:])\n",
        "print(str1[:])\n",
        "print('length of the str1 is:',len(str1), \"\\nlength of the str2 is:\", len(str2))"
      ],
      "metadata": {
        "id": "aWZK36R_-t0M",
        "colab": {
          "base_uri": "https://localhost:8080/"
        },
        "outputId": "14cebbda-ab3f-42c9-c801-0e40bc1f1a4d"
      },
      "execution_count": 36,
      "outputs": [
        {
          "output_type": "stream",
          "name": "stdout",
          "text": [
            "Strings\n",
            "are\n",
            "non-changeable\n",
            "Strings are non-changeable\n",
            "length of the str1 is: 26 \n",
            "length of the str2 is: 78\n"
          ]
        }
      ]
    },
    {
      "cell_type": "code",
      "source": [
        "#if statement\n",
        "if 'non-changeable' in str1:\n",
        "  print(\"yes strings are Immutable\")\n",
        "else:\n",
        "  print(\"no\")"
      ],
      "metadata": {
        "colab": {
          "base_uri": "https://localhost:8080/"
        },
        "id": "gCNgFufqANSp",
        "outputId": "0e65c74f-d77c-4e0b-944c-d69a5693e8cb"
      },
      "execution_count": 37,
      "outputs": [
        {
          "output_type": "stream",
          "name": "stdout",
          "text": [
            "yes strings are Immutable\n"
          ]
        }
      ]
    },
    {
      "cell_type": "code",
      "source": [
        "#Modification of strings(representation)\n",
        "print(\"Printing the string elements in upper case form:\\n\",str1.upper())   # upper case\n",
        "print(\"\\nprinting the string elements in lower case form:\\n\",str1.lower())   # lower case\n",
        "print(str1.strip())   #Remove whitespace \n",
        "#replace values in string\n",
        "print(\"\\nReplace the element non-changeable to immutable in str1:\\n\",str1.replace('non-changeable','immutable') )  \n",
        "print(\"\\n1st letter(element in str1) capital in capital form:\\n\",str1.capitalize())  #1st letter capital\n",
        "print(str1.casefold())  #same as lower case\n",
        "print(\"\\nSwap the lower case letters to upper case, and upper to lower case letters:\\n\",str1.swapcase())  \n",
        "print(\"\\ncounting the letter in str1:\",str1.count(\"n\")) #counting n element how many times repeated in str1"
      ],
      "metadata": {
        "id": "6hgoa8_vA0qr",
        "colab": {
          "base_uri": "https://localhost:8080/"
        },
        "outputId": "3da80739-b5cf-4807-8cfd-485ce601c726"
      },
      "execution_count": 38,
      "outputs": [
        {
          "output_type": "stream",
          "name": "stdout",
          "text": [
            "Printing the string elements in upper case form:\n",
            " STRINGS ARE NON-CHANGEABLE\n",
            "\n",
            "printing the string elements in lower case form:\n",
            " strings are non-changeable\n",
            "Strings are non-changeable\n",
            "\n",
            "Replace the element non-changeable to immutable in str1:\n",
            " Strings are immutable\n",
            "\n",
            "1st letter(element in str1) capital in capital form:\n",
            " Strings are non-changeable\n",
            "strings are non-changeable\n",
            "\n",
            "Swap the lower case letters to upper case, and upper to lower case letters:\n",
            " sTRINGS ARE NON-CHANGEABLE\n",
            "\n",
            "counting the letter in str1: 4\n"
          ]
        }
      ]
    },
    {
      "cell_type": "code",
      "source": [
        "#_.formate()\n",
        "str3 = \"Strings are sorrounded by single or double quotation marks and {}\"\n",
        "print(str3.format(str1))"
      ],
      "metadata": {
        "colab": {
          "base_uri": "https://localhost:8080/"
        },
        "id": "dytGcSiSED6G",
        "outputId": "2a78d731-e03d-400a-a93e-a576c10b222d"
      },
      "execution_count": 39,
      "outputs": [
        {
          "output_type": "stream",
          "name": "stdout",
          "text": [
            "Strings are sorrounded by single or double quotation marks and Strings are non-changeable\n"
          ]
        }
      ]
    },
    {
      "cell_type": "markdown",
      "source": [
        "# Question-2\n",
        "### **Demonstrate the implementation of List methods and List Comprehension with examples in Google Colab Notebook using Python.**"
      ],
      "metadata": {
        "id": "UkGo3J1YMsrs"
      }
    },
    {
      "cell_type": "markdown",
      "source": [
        "**List:** is mutable. it is created using square brackets[]\n",
        "\n",
        "it is used to store multiple items in sigle variable"
      ],
      "metadata": {
        "id": "kvWYB2v6E8fL"
      }
    },
    {
      "cell_type": "code",
      "source": [
        "#Creating the List\n",
        "list1=[23,'vaish',2.3, True]\n",
        "list2=[\"List\",\"items\",\"are\", \"ordered\",\"Cheangeable\"]\n",
        "print(\"printing the created List:\",list1)\n",
        "print(\"Type of the Variable created:\",type(list1))\n",
        "#Length of the List\n",
        "print(\"Length of the list:\", len(list1))\n",
        "#List Indexing and slicing\n",
        "print(list2[0])\n",
        "print(list2[1:3])\n",
        "print(list2[:4])\n",
        "#Cheanging the items in list\n",
        "list1.append(32)\n",
        "print(\"List1 after appending:\\n\",list1)\n",
        "list1.insert(1,52)   #list1.insert(position, value)\n",
        "print(\"List1 after insterting item:\\n\",list1)\n",
        "#adding list1 to list2 for extending the list\n",
        "list2.extend(list1)\n",
        "print(\"List after extending:\\n\", list2)\n",
        "list1.remove(True)\n",
        "print(\"list after removing true:\", list1)\n",
        "list1.clear()\n",
        "print(list1)\n",
        "del list2\n",
        "#print(list2)    it will show error because the list was deleted"
      ],
      "metadata": {
        "id": "_ZTR8JS3Fd44",
        "colab": {
          "base_uri": "https://localhost:8080/"
        },
        "outputId": "a55652f5-74a5-4618-efdc-3ceec1baa870"
      },
      "execution_count": 40,
      "outputs": [
        {
          "output_type": "stream",
          "name": "stdout",
          "text": [
            "printing the created List: [23, 'vaish', 2.3, True]\n",
            "Type of the Variable created: <class 'list'>\n",
            "Length of the list: 4\n",
            "List\n",
            "['items', 'are']\n",
            "['List', 'items', 'are', 'ordered']\n",
            "List1 after appending:\n",
            " [23, 'vaish', 2.3, True, 32]\n",
            "List1 after insterting item:\n",
            " [23, 52, 'vaish', 2.3, True, 32]\n",
            "List after extending:\n",
            " ['List', 'items', 'are', 'ordered', 'Cheangeable', 23, 52, 'vaish', 2.3, True, 32]\n",
            "list after removing true: [23, 52, 'vaish', 2.3, 32]\n",
            "[]\n"
          ]
        }
      ]
    },
    {
      "cell_type": "code",
      "source": [
        "list1=[23,'vaish',2.3, True]\n",
        "for i in list1:\n",
        "  print(i)\n",
        "print(\"\\n\")\n",
        "#to print list unsing index we will use another way\n",
        "for i in range(len(list1)):\n",
        "  print(list1[i])"
      ],
      "metadata": {
        "colab": {
          "base_uri": "https://localhost:8080/"
        },
        "id": "LsewLeuY0hyr",
        "outputId": "d15e327f-4c37-4b2d-cec0-f7b8b5860c1e"
      },
      "execution_count": 41,
      "outputs": [
        {
          "output_type": "stream",
          "name": "stdout",
          "text": [
            "23\n",
            "vaish\n",
            "2.3\n",
            "True\n",
            "\n",
            "\n",
            "23\n",
            "vaish\n",
            "2.3\n",
            "True\n"
          ]
        }
      ]
    },
    {
      "cell_type": "code",
      "source": [
        "#List Comprehension\n",
        "  #create a new list\n",
        "list3=[1,5,6,9]\n",
        "cube=[i**3 for i in list3] #with comprehension\n",
        "print(cube)\n",
        "#without comprehension\n",
        "cube=[]\n",
        "for i in list3:\n",
        "  cube.append(i**3)\n",
        "print(cube)"
      ],
      "metadata": {
        "colab": {
          "base_uri": "https://localhost:8080/"
        },
        "id": "q_wJ-i3d1paG",
        "outputId": "c955db27-daa1-4c04-cffb-2a7b0b08e61b"
      },
      "execution_count": 42,
      "outputs": [
        {
          "output_type": "stream",
          "name": "stdout",
          "text": [
            "[1, 125, 216, 729]\n",
            "[1, 125, 216, 729]\n"
          ]
        }
      ]
    },
    {
      "cell_type": "code",
      "source": [
        "list4=[4,2,7,5,8,56,43]\n",
        "print(\"created list4:\",list4)\n",
        "list4.sort()\n",
        "print(\"list in ascending order:\",list4)\n",
        "list4.sort(reverse=True)\n",
        "print(\"list in descending order:\",list4)"
      ],
      "metadata": {
        "colab": {
          "base_uri": "https://localhost:8080/"
        },
        "id": "KHkj1uDY8uR2",
        "outputId": "f3182e5a-6316-4bc8-8754-08843c6560ab"
      },
      "execution_count": 43,
      "outputs": [
        {
          "output_type": "stream",
          "name": "stdout",
          "text": [
            "created list4: [4, 2, 7, 5, 8, 56, 43]\n",
            "list in ascending order: [2, 4, 5, 7, 8, 43, 56]\n",
            "list in descending order: [56, 43, 8, 7, 5, 4, 2]\n"
          ]
        }
      ]
    },
    {
      "cell_type": "markdown",
      "source": [
        "# Question-3\n",
        "### **Demonstrate the implementation of Tuple methods in Google Colab Notebook using Python. Also, demonstrate how they are different from Python List.**"
      ],
      "metadata": {
        "id": "ys2V4rNpNPyt"
      }
    },
    {
      "cell_type": "markdown",
      "source": [
        "**Tuple:** Immutable(non-changeable) and are in round Brackets(), the tuple items are ordered.\n",
        "\n"
      ],
      "metadata": {
        "id": "c0H1SI-o3F01"
      }
    },
    {
      "cell_type": "code",
      "source": [
        "#tuple\n",
        "tuple1=(3,6,4,21,)\n",
        "tuple2=(\"tupples\",\"are Unchangeable\",\"allows\", \"duplicate values\")\n",
        "print(\"Tuple in integer formate:\",tuple1)\n",
        "#lengthe of the tuple\n",
        "print(\"Lengthe of the tuple1:\",len(tuple1),\"\\nLength of the tuple2:\",len(tuple2))\n",
        "#empty tuple\n",
        "empty_tuple=()\n",
        "print(\"print empty tuple:\",empty_tuple)\n",
        "print(\"type of tuple1:\",type(tuple1),\"\\ntype of tuple2:\",type(tuple2))\n",
        "tuple1.count(21)\n",
        "print(tuple1[:3])\n",
        "\"\"\"In list we can achange the elements but in tupples we canot change the elements but  the indexing, slicing and looping will be same way in tuple and list\"\"\"\n",
        "print(\"Differentiate tuple from python list\")\n",
        "list_from_tuple1 = list(tuple1)\n",
        "list_from_tuple1.append(9)\n",
        "print(\"List from tuple:\",list_from_tuple1)\n",
        "tuple_aft_append = tuple(list_from_tuple1)\n",
        "print(\"Tuple after appending 9\",tuple_aft_append)"
      ],
      "metadata": {
        "colab": {
          "base_uri": "https://localhost:8080/"
        },
        "id": "ygZ__WFZ3N3j",
        "outputId": "9ceaa20a-c9fd-43f2-f222-045c0475a18b"
      },
      "execution_count": 44,
      "outputs": [
        {
          "output_type": "stream",
          "name": "stdout",
          "text": [
            "Tuple in integer formate: (3, 6, 4, 21)\n",
            "Lengthe of the tuple1: 4 \n",
            "Length of the tuple2: 4\n",
            "print empty tuple: ()\n",
            "type of tuple1: <class 'tuple'> \n",
            "type of tuple2: <class 'tuple'>\n",
            "(3, 6, 4)\n",
            "Differentiate tuple from python list\n",
            "List from tuple: [3, 6, 4, 21, 9]\n",
            "Tuple after appending 9 (3, 6, 4, 21, 9)\n"
          ]
        }
      ]
    },
    {
      "cell_type": "markdown",
      "source": [
        "# Question-4\n",
        "### **Implement different Dictionary methods for Nested Dictionaries in Google Colab Notebook using Python.**"
      ],
      "metadata": {
        "id": "Ywf4uA8rNvTc"
      }
    },
    {
      "cell_type": "markdown",
      "source": [
        "**Dictionary:**  is a collection of key pairs to the values. it is like pairing of key-values, and represented in curly brackets{}"
      ],
      "metadata": {
        "id": "JeaYzyoZ_NJJ"
      }
    },
    {
      "cell_type": "code",
      "source": [
        "#dictionary\n",
        "data1={\"String\":'Immutable',\n",
        "      \"List\":'Mutable',\n",
        "      \"Tuple\":'Immutable'}\n",
        "print(\"Created Dictionary:\\n\",data1)\n",
        "print(data1[\"List\"])\n",
        "print(\"data type:\",type(data1))\n",
        "print(\"print Values:\",data1.values())\n",
        "print(\"print keys\",data1.keys())\n",
        "print(data1.get(\"String\"))\n",
        "print(data1.copy())\n",
        "data1[\"Tuple\"]= 'Unchangeable'\n",
        "print(\"print the data after changing the value of tuple key:\",data1)\n",
        "print(\"print the data items:\",data1.items())\n",
        "data1.pop(\"Tuple\")\n",
        "print(\"after removing the tuple using pop:\",data1)\n",
        "data1.clear()\n",
        "print(data1)"
      ],
      "metadata": {
        "colab": {
          "base_uri": "https://localhost:8080/"
        },
        "id": "0-e93JSX_Md4",
        "outputId": "a35b480f-ff9f-42a7-91e1-3079589aabf3"
      },
      "execution_count": 45,
      "outputs": [
        {
          "output_type": "stream",
          "name": "stdout",
          "text": [
            "Created Dictionary:\n",
            " {'String': 'Immutable', 'List': 'Mutable', 'Tuple': 'Immutable'}\n",
            "Mutable\n",
            "data type: <class 'dict'>\n",
            "print Values: dict_values(['Immutable', 'Mutable', 'Immutable'])\n",
            "print keys dict_keys(['String', 'List', 'Tuple'])\n",
            "Immutable\n",
            "{'String': 'Immutable', 'List': 'Mutable', 'Tuple': 'Immutable'}\n",
            "print the data after changing the value of tuple key: {'String': 'Immutable', 'List': 'Mutable', 'Tuple': 'Unchangeable'}\n",
            "print the data items: dict_items([('String', 'Immutable'), ('List', 'Mutable'), ('Tuple', 'Unchangeable')])\n",
            "after removing the tuple using pop: {'String': 'Immutable', 'List': 'Mutable'}\n",
            "{}\n"
          ]
        }
      ]
    },
    {
      "cell_type": "code",
      "source": [
        "#Nested Dictionary\n",
        "Data2= {\n",
        "    \"e1\": {\"name\" : \"John\",\n",
        "           \"age\" : 20,\n",
        "           \"salary\" :213823.2},\n",
        "    \"e2\": {\"name\" : \"Yeshaiah\",\n",
        "           \"age\" : 23,\n",
        "           \"salary\" :34354.5},\n",
        "    \"e3\":{\"name\" : \"Ribkha\",\n",
        "           \"age\" : 21,\n",
        "           \"salary\" :223423.2}\n",
        "    \n",
        "    }\n",
        "print(Data2)\n",
        "for i in Data2:\n",
        "  print(i)\n",
        "print()\n",
        "\n",
        "for i in Data2.values():\n",
        "  print(\"print Values:\\n\",i)\n",
        "print()\n",
        "\n",
        "for i, j in Data2.items():\n",
        "  print(\"Get both keys and values:\\n\",i, \":\", j)"
      ],
      "metadata": {
        "id": "SliA1ZVYDG0K",
        "colab": {
          "base_uri": "https://localhost:8080/"
        },
        "outputId": "57f44d38-4b2a-41b8-cc11-8a6f1fa454ff"
      },
      "execution_count": 46,
      "outputs": [
        {
          "output_type": "stream",
          "name": "stdout",
          "text": [
            "{'e1': {'name': 'John', 'age': 20, 'salary': 213823.2}, 'e2': {'name': 'Yeshaiah', 'age': 23, 'salary': 34354.5}, 'e3': {'name': 'Ribkha', 'age': 21, 'salary': 223423.2}}\n",
            "e1\n",
            "e2\n",
            "e3\n",
            "\n",
            "print Values:\n",
            " {'name': 'John', 'age': 20, 'salary': 213823.2}\n",
            "print Values:\n",
            " {'name': 'Yeshaiah', 'age': 23, 'salary': 34354.5}\n",
            "print Values:\n",
            " {'name': 'Ribkha', 'age': 21, 'salary': 223423.2}\n",
            "\n",
            "Get both keys and values:\n",
            " e1 : {'name': 'John', 'age': 20, 'salary': 213823.2}\n",
            "Get both keys and values:\n",
            " e2 : {'name': 'Yeshaiah', 'age': 23, 'salary': 34354.5}\n",
            "Get both keys and values:\n",
            " e3 : {'name': 'Ribkha', 'age': 21, 'salary': 223423.2}\n"
          ]
        }
      ]
    },
    {
      "cell_type": "markdown",
      "source": [
        "# Question-5\n",
        "### **Write a python program to read the CSV file and display its contents row-wise in Google Colab Notebook using Python.**"
      ],
      "metadata": {
        "id": "YbVVubjaOAqo"
      }
    },
    {
      "cell_type": "code",
      "source": [
        "import csv\n",
        "\n",
        "filename = '/content/sampleData - Sheet1.csv'\n",
        "\n",
        "# initializing the titles and rows list\n",
        "clmn = []\n",
        "rows = []\n",
        "\n",
        "with open(filename, 'r') as csvfile:    # reading csv file\n",
        "  csvreader = csv.reader(csvfile)     \t# creating a csv reader object\n",
        "\t\n",
        "\n",
        "  clmn = next(csvreader)    \t# extracting column names through first row\n",
        "\n",
        "  for row in csvreader:       \t# extracting each data row-wise\n",
        "\t  rows.append(row)\n",
        "\n",
        "print(\"Total number of rows: %d\"%(csvreader.line_num))\n",
        "print('column names are:' + ', '.join(column for column in clmn))\n",
        "\n",
        "# printing first 6 rows\n",
        "print('\\nFirst 6 rows are:\\n')\n",
        "for row in rows[:6]:\n",
        "\t# parsing each column of a row\n",
        "\tfor col in row:\n",
        "\t\tprint(\"%10s\"%col,end=\" \"),\n",
        "\tprint('\\n')"
      ],
      "metadata": {
        "colab": {
          "base_uri": "https://localhost:8080/"
        },
        "id": "c6MGXb6BUs_W",
        "outputId": "8d9cab79-efa6-43bd-8504-6363f797733e"
      },
      "execution_count": 47,
      "outputs": [
        {
          "output_type": "stream",
          "name": "stdout",
          "text": [
            "Total number of rows: 8\n",
            "column names are:Jobs, Salary range\n",
            "\n",
            "First 6 rows are:\n",
            "\n",
            "Software Engineer ₹449k - ₹3m \n",
            "\n",
            "Senior Software Engineer ₹795k - ₹4m \n",
            "\n",
            "Software Developer ₹211k - ₹987k \n",
            "\n",
            "Data Scientist       256k \n",
            "\n",
            "Applications Engineer ₹713k - ₹3m \n",
            "\n",
            "Technical Support Engineer ₹275k - ₹1m \n",
            "\n"
          ]
        }
      ]
    },
    {
      "cell_type": "markdown",
      "source": [
        "# Question-6\n",
        "### **Write a Python program to write to the CSV file and read the written contents row-wise in Google Colab Notebook using Python.**"
      ],
      "metadata": {
        "id": "w1noTGecO25a"
      }
    },
    {
      "cell_type": "code",
      "source": [
        "# importing the csv module\n",
        "import csv\n",
        "\n",
        "# field names\n",
        "fields = ['Jobs', 'Salary range', 'Average']\n",
        "\n",
        "# data rows of csv file\n",
        "rows = [ [\"Software Engineer\", \"₹449k - ₹3m\", \"₹1,592,782\"],\n",
        "\t\t[\"Senior Software Engineer\", \"₹795k - ₹4m\", \"₹1,973,972\"],\n",
        "\t\t[\"Software Developer\", \"₹211k - ₹987k\", \"₹494,459\"],\n",
        "\t\t[\"Data Scientist\", \"₹256k - ₹2m\", \"₹775,129\"],\n",
        "\t\t[\"Applications Engineer\", \"₹713k - ₹3m\", \"₹1,554,732\"],\n",
        "\t\t[\"Technical Support Engineer\", \"₹275k - ₹1m\", \"₹615,228\"],\n",
        "    [\"Technical Program Manager (TPM)\",\"₹922k - ₹3m (Estimated*)\",\"₹2,125,830\"]]\n",
        "\n",
        "filename = 'Average_salary_for_GoogleEmployees.csv'\n",
        "with open(filename, 'w') as csvfile:   # w for write\n",
        "\tcsvwriter = csv.writer(csvfile)\n",
        "\tcsvwriter.writerow(fields)  #writing fields\n",
        "\tcsvwriter.writerows(rows)   #writing data rows"
      ],
      "metadata": {
        "id": "88fgqk3Eb-xP"
      },
      "execution_count": 48,
      "outputs": []
    },
    {
      "cell_type": "code",
      "source": [
        "filename = 'Average_salary_for_GoogleEmployees.csv'\n",
        "fields = []\n",
        "rows = []\n",
        "\n",
        "with open(filename, 'r') as csvfile:\n",
        "\tcsvreader = csv.reader(csvfile)\n",
        "\tfields = next(csvreader)\n",
        " \n",
        "\tfor row in csvreader:\n",
        "\t\trows.append(row)\n",
        "\tprint(\"Total no. of rows: %d\" %(csvreader.line_num))  #print total number of rows\n",
        "print('Field names are:' + ', '.join(field for field in fields)) # print the field names\n",
        "print('\\nFirst 7 rows:')\n",
        "for row in rows[:7]:\n",
        "\tfor col in row:\n",
        "\t\tprint(\"%10s\"%col),\n",
        "\tprint('\\n')\n"
      ],
      "metadata": {
        "colab": {
          "base_uri": "https://localhost:8080/"
        },
        "id": "8Hy8OyXAcFdZ",
        "outputId": "93254208-3b37-4d20-e10a-56218d7a6f25"
      },
      "execution_count": 49,
      "outputs": [
        {
          "output_type": "stream",
          "name": "stdout",
          "text": [
            "Total no. of rows: 8\n",
            "Field names are:Jobs, Salary range, Average\n",
            "\n",
            "First 7 rows:\n",
            "Software Engineer\n",
            "₹449k - ₹3m\n",
            "₹1,592,782\n",
            "\n",
            "\n",
            "Senior Software Engineer\n",
            "₹795k - ₹4m\n",
            "₹1,973,972\n",
            "\n",
            "\n",
            "Software Developer\n",
            "₹211k - ₹987k\n",
            "  ₹494,459\n",
            "\n",
            "\n",
            "Data Scientist\n",
            "₹256k - ₹2m\n",
            "  ₹775,129\n",
            "\n",
            "\n",
            "Applications Engineer\n",
            "₹713k - ₹3m\n",
            "₹1,554,732\n",
            "\n",
            "\n",
            "Technical Support Engineer\n",
            "₹275k - ₹1m\n",
            "  ₹615,228\n",
            "\n",
            "\n",
            "Technical Program Manager (TPM)\n",
            "₹922k - ₹3m (Estimated*)\n",
            "₹2,125,830\n",
            "\n",
            "\n"
          ]
        }
      ]
    }
  ]
}